{
 "cells": [
  {
   "cell_type": "code",
   "execution_count": 1,
   "metadata": {},
   "outputs": [],
   "source": [
    "import pandas as pd\n",
    "import matplotlib.pyplot as plt\n",
    "from mpl_toolkits.mplot3d import Axes3D\n",
    "from shapely.ops import split, GeometryCollection, Point,MultiPoint,LineString\n",
    "from pyproj import Transformer\n",
    "import os\n",
    "import geopandas as gpd"
   ]
  },
  {
   "cell_type": "code",
   "execution_count": 3,
   "metadata": {},
   "outputs": [],
   "source": [
    "root_name = 'Results'"
   ]
  },
  {
   "cell_type": "code",
   "execution_count": 4,
   "metadata": {},
   "outputs": [],
   "source": [
    "def change_crs(df,fr,to):\n",
    "    # Transformer for EPSG 4326 to EPSG 3857\n",
    "    transformer = Transformer.from_crs(f\"epsg:{fr}\",f\"epsg:{to}\", always_xy=True)\n",
    "\n",
    "    # Function to apply transformation\n",
    "    def transform_coords(x, y):\n",
    "        return transformer.transform(y, x)\n",
    "\n",
    "    # Apply transformation to the columns\n",
    "    df[['left_lat', 'left_long']] = df.apply(lambda row: transform_coords(row['left_lat'], row['left_long']), axis=1, result_type='expand')\n",
    "    df[['right_lat', 'right_long']] = df.apply(lambda row: transform_coords(row['right_lat'], row['right_long']), axis=1, result_type='expand')\n",
    "    # df[['mid_point_x', 'mid_point_y']] = df.apply(lambda row: transform_coords(row['mid_point_x'], row['mid_point_y']), axis=1, result_type='expand')\n",
    "\n",
    "    return df"
   ]
  },
  {
   "cell_type": "code",
   "execution_count": 5,
   "metadata": {},
   "outputs": [
    {
     "data": {
      "text/plain": [
       "'full circuit'"
      ]
     },
     "execution_count": 5,
     "metadata": {},
     "output_type": "execute_result"
    }
   ],
   "source": [
    "os.listdir(root_name)[0].split('_')[2].split('.')[0]"
   ]
  },
  {
   "cell_type": "code",
   "execution_count": 6,
   "metadata": {},
   "outputs": [
    {
     "name": "stdout",
     "output_type": "stream",
     "text": [
      "average= 1.7278582508626417\n",
      "***************\n",
      "average= 1.1377191191887608\n",
      "***************\n",
      "average= 2.2175831941968993\n",
      "***************\n",
      "average= 2.0251005177412607\n",
      "***************\n",
      "average= 0.7217077234738676\n",
      "***************\n",
      "average= 1.176465436550772\n",
      "***************\n",
      "average= 3.4300234411958224\n",
      "***************\n",
      "average= 2.4546870574587807\n",
      "***************\n",
      "average= 2.7979190508074314\n",
      "***************\n",
      "average= 0.7209375161875395\n",
      "***************\n",
      "average= 2.056778416387401\n",
      "***************\n",
      "average= 1.3243585215483493\n",
      "***************\n",
      "average= 1.1288803442619315\n",
      "***************\n",
      "average= 1.7829179786985656\n",
      "***************\n",
      "average= 0.9500359382636646\n",
      "***************\n",
      "average= 1.5222702259252878\n",
      "***************\n",
      "average= 2.880887208027702\n",
      "***************\n",
      "average= 0.842477209023186\n",
      "***************\n",
      "average= 0.8305586199063888\n",
      "***************\n",
      "average= 1.4328227094729677\n",
      "***************\n",
      "average= 1.420517492647733\n",
      "***************\n",
      "average= 0.538577194419211\n",
      "***************\n",
      "average= 2.658400876576434\n",
      "***************\n",
      "average= 2.732250350107606\n",
      "***************\n",
      "average= 1.4796651898358606\n",
      "***************\n",
      "average= 2.642979447582147\n",
      "***************\n",
      "average= 2.66166285051586\n",
      "***************\n",
      "average= 4.365816076185854\n",
      "***************\n",
      "average= 4.354799677103792\n",
      "***************\n",
      "average= 2.078266376713885\n",
      "***************\n",
      "average= 2.5031017791343695\n",
      "***************\n"
     ]
    }
   ],
   "source": [
    "names = []\n",
    "direction = []\n",
    "variations=[]\n",
    "dem_res = []\n",
    "left =[]\n",
    "right= []\n",
    "average = []\n",
    "for i in os.listdir(root_name):\n",
    "    pth = os.path.join(root_name,i)\n",
    "    df = pd.read_csv(pth)\n",
    "    new_df = change_crs(df,4326,27700)\n",
    "    left_length =LineString([i for i in zip(new_df['left_long'].to_list(),new_df['left_lat'].to_list())]).length/1609.34\n",
    "    right_length = LineString([i for i in zip(new_df['right_long'].to_list(),new_df['right_lat'].to_list())]).length/1609.34\n",
    "    # print(f'{i.split('_')[1:3]} left_length={left_length}  right_length= {right_length}')\n",
    "    names.append(i.split('_')[0])\n",
    "    direction.append(i.split('_')[1])\n",
    "    variations.append(i.split('_')[2].split('.')[0])\n",
    "    dem_res.append(30)\n",
    "    left.append(left_length)\n",
    "    right.append(right_length)\n",
    "    average.append((left_length+right_length)/2)\n",
    "    print(f'average= {(left_length+right_length)/2}')\n",
    "    print('***************')"
   ]
  },
  {
   "cell_type": "code",
   "execution_count": 7,
   "metadata": {},
   "outputs": [],
   "source": [
    "pd.DataFrame({'Name':names,'Variation':variations,'Resolution':dem_res,'Direction':direction,'Left_Length':left,'Right_length':right,'Average':average}).to_csv('Circuit_lengths_new.csv',index=False)\n",
    "# Plotting the lengths"
   ]
  }
 ],
 "metadata": {
  "kernelspec": {
   "display_name": "race_course",
   "language": "python",
   "name": "python3"
  },
  "language_info": {
   "codemirror_mode": {
    "name": "ipython",
    "version": 3
   },
   "file_extension": ".py",
   "mimetype": "text/x-python",
   "name": "python",
   "nbconvert_exporter": "python",
   "pygments_lexer": "ipython3",
   "version": "3.9.21"
  }
 },
 "nbformat": 4,
 "nbformat_minor": 2
}
